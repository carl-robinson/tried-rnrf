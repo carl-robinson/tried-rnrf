{
 "cells": [
  {
   "cell_type": "code",
   "execution_count": 33,
   "metadata": {},
   "outputs": [],
   "source": [
    "%matplotlib inline\n",
    "import numpy as np\n",
    "import matplotlib.pyplot as plt\n",
    "import sys\n",
    "import random\n",
    "from scipy import stats\n",
    "\n",
    "input_file = open('/Users/carl/Dropbox/Docs/Python/PyCharm/TRIED_FAC_TP1/donnees.txt')\n",
    "# read in lines into a list of lists, skipping every other line as these are blank\n",
    "input_data = []\n",
    "for line in input_file:\n",
    "    input_data.append(line.split())\n",
    "    input_file.readline()\n",
    "# print(input_data)\n",
    "\n",
    "# extract variable data from columns\n",
    "X = [row[0] for row in input_data]\n",
    "X = np.array(X).astype(np.float)\n",
    "Y = [row[1] for row in input_data]\n",
    "Y = np.array(Y).astype(np.float)"
   ]
  },
  {
   "cell_type": "code",
   "execution_count": 34,
   "metadata": {},
   "outputs": [
    {
     "name": "stdout",
     "output_type": "stream",
     "text": [
      "5.0\n9.01696080055\n8.33\n(50,)\n(50,)\n[[ 8.5         8.61948259]\n [ 8.61948259  8.82516388]]\n[[ 8.5         8.61948259]\n [ 8.61948259  8.82516388]]\n1.03475181153\n3.84320174289\n"
     ]
    },
    {
     "data": {
      "image/png": "[encoded data removed]",
      "text/plain": [
       "<matplotlib.figure.Figure at 0x10cf48c50>"
      ]
     },
     "metadata": {},
     "output_type": "display_data"
    }
   ],
   "source": [
    "x_bar = np.mean(X)\n",
    "print(x_bar)\n",
    "y_bar = np.mean(Y)\n",
    "print(y_bar)\n",
    "x_var = np.var(X)\n",
    "print(x_var)\n",
    "print(np.shape(X))\n",
    "print(np.shape(Y))\n",
    "xy_covar = np.cov(X, Y)\n",
    "print(xy_covar)\n",
    "Z = np.vstack((X,Y))\n",
    "xy_covar = np.cov(Z)\n",
    "print(xy_covar)\n",
    "\n",
    "# a = xy_covar[0, 1] / x_var\n",
    "a = xy_covar[0, 1] / x_var\n",
    "print(a)\n",
    "b = y_bar - (a * x_bar)\n",
    "print(b)\n",
    "\n",
    "# create new figure\n",
    "plt.figure()\n",
    "plt.scatter(X, Y, color='b', label='Data')\n",
    "plt.title('Linear Regression')\n",
    "plt.ylabel('Y')\n",
    "plt.xlabel('X')\n",
    "plt.plot(X, (a * X) + b, color='g', label='Least squares')\n",
    "plt.legend()\n",
    "plt.show()\n"
   ]
  },
  {
   "cell_type": "code",
   "execution_count": 35,
   "metadata": {},
   "outputs": [],
   "source": []
  }
 ],
 "metadata": {
  "kernelspec": {
   "display_name": "Python 3",
   "language": "python",
   "name": "python3"
  },
  "language_info": {
   "codemirror_mode": {
    "name": "ipython",
    "version": 3
   },
   "file_extension": ".py",
   "mimetype": "text/x-python",
   "name": "python",
   "nbconvert_exporter": "python",
   "pygments_lexer": "ipython3",
   "version": "3.6.2"
  }
 },
 "nbformat": 4,
 "nbformat_minor": 2
}
