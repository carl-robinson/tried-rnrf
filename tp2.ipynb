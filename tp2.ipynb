{
 "cells": [
  {
   "cell_type": "code",
   "execution_count": 77,
   "metadata": {},
   "outputs": [
    {
     "name": "stdout",
     "output_type": "stream",
     "text": [
      "[ 1  2  3  4  4  5  6  6  7  8  9  9 10 10]\n[ 23  29  49  64  74  87  96  97 109 119 149 145 154 166]\n"
     ]
    }
   ],
   "source": [
    "%matplotlib inline\n",
    "import numpy as np\n",
    "import matplotlib.pyplot as plt\n",
    "import sys\n",
    "import random\n",
    "from scipy import stats\n",
    "import math\n",
    "\n",
    "input_file = open('/Users/carl/Dropbox/Docs/Python/PyCharm/TRIED_TP2/ordi.txt')\n",
    "# read in lines into a list of lists, skipping every other line as these are blank\n",
    "input_data = []\n",
    "for line in input_file:\n",
    "    input_data.append(line.split())\n",
    "    input_file.readline()\n",
    "# print(input_data)\n",
    "\n",
    "\n",
    "# extract variable data from columns\n",
    "X = [row[0] for row in input_data]\n",
    "X = np.array(X).astype(np.int)\n",
    "print(X)\n",
    "Y = [row[1] for row in input_data]\n",
    "Y = np.array(Y).astype(np.int)\n",
    "print(Y)"
   ]
  },
  {
   "cell_type": "code",
   "execution_count": 78,
   "metadata": {},
   "outputs": [
    {
     "name": "stdout",
     "output_type": "stream",
     "text": [
      "6.0\n97.2142857143\n8.14285714286\n1983.45408163\n[[    8.76923077   136.        ]\n [  136.          2136.02747253]]\n16.701754386\n-2.9962406015\n"
     ]
    },
    {
     "data": {
      "image/png": "[encoded data removed]",
      "text/plain": [
       "<matplotlib.figure.Figure at 0x114070e48>"
      ]
     },
     "metadata": {},
     "output_type": "display_data"
    }
   ],
   "source": [
    "x_bar = np.mean(X)\n",
    "print(x_bar)\n",
    "y_bar = np.mean(Y)\n",
    "print(y_bar)\n",
    "x_var = np.var(X)\n",
    "print(x_var)\n",
    "y_var = np.var(Y)\n",
    "print(y_var)\n",
    "# print(np.shape(X))\n",
    "# print(np.shape(Y))\n",
    "xy_covar = np.cov(X, Y)\n",
    "print(xy_covar)\n",
    "\n",
    "# a = xy_covar[0, 1] / x_var\n",
    "a = xy_covar[0, 1] / x_var\n",
    "print(a)\n",
    "b = y_bar - (a * x_bar)\n",
    "print(b)\n",
    "\n",
    "# create new figure\n",
    "plt.figure()\n",
    "plt.scatter(X, Y, color='b', label='Data')\n",
    "plt.title('Scatter of data and linear regression')\n",
    "plt.ylabel('Y')\n",
    "plt.xlabel('X')\n",
    "Y_linreg = (a * X) + b\n",
    "plt.plot(X, Y_linreg, color='g', label='Least squares')\n",
    "plt.legend()\n",
    "plt.show()"
   ]
  },
  {
   "cell_type": "code",
   "execution_count": 79,
   "metadata": {},
   "outputs": [
    {
     "name": "stdout",
     "output_type": "stream",
     "text": [
      "[ 23  29  49  64  74  87  96  97 109 119 149 145 154 166]\n[  13.70551378   30.40726817   47.10902256   63.81077694   63.81077694\n   80.51253133   97.21428571   97.21428571  113.9160401   130.61779449\n  147.31954887  147.31954887  164.02130326  164.02130326]\n[ -9.29448622   1.40726817  -1.89097744  -0.18922306 -10.18922306\n  -6.48746867   1.21428571   0.21428571   4.9160401   11.61779449\n  -1.68045113   2.31954887  10.02130326  -1.97869674]\n[  8.63874740e+01   1.98040370e+00   3.57579569e+00   3.58053655e-02\n   1.03820267e+02   4.20872498e+01   1.47448980e+00   4.59183673e-02\n   2.41674503e+01   1.34973149e+02   2.82391599e+00   5.38030697e+00\n   1.00426519e+02   3.91524080e+00]\n511.093984962\n36.5067132116\n6.0420785506\n"
     ]
    }
   ],
   "source": [
    "# Calculate RMS (root of average squared difference of Y from Y_linreg)\n",
    "print(Y)\n",
    "print(Y_linreg)\n",
    "diff = Y_linreg - Y\n",
    "print(diff)\n",
    "power = np.square(diff)\n",
    "print(power)\n",
    "sum = np.sum(power)\n",
    "print(sum)\n",
    "mean = sum / np.size(Y)\n",
    "print(mean)\n",
    "RMS = np.sqrt(mean)\n",
    "print(RMS)"
   ]
  },
  {
   "cell_type": "code",
   "execution_count": 80,
   "metadata": {},
   "outputs": [
    {
     "name": "stdout",
     "output_type": "stream",
     "text": [
      "0.993698746131\n"
     ]
    }
   ],
   "source": [
    "# Calculate R^2 - should be between 0 and 1 (as R is between -1 and 1\n",
    "# xy_covar_val = xy_covar[0, 1]\n",
    "# print(xy_covar_val)\n",
    "# prod = x_var * y_var\n",
    "# print(prod)\n",
    "# R = xy_covar_val / prod\n",
    "# print(R)\n",
    "# R2 = np.square(R)\n",
    "# print(R2)\n",
    "corr = np.corrcoef(X,Y)\n",
    "print(corr[0, 1])"
   ]
  },
  {
   "cell_type": "code",
   "execution_count": 81,
   "metadata": {},
   "outputs": [
    {
     "data": {
      "image/png": "[encoded data removed]",
      "text/plain": [
       "<matplotlib.figure.Figure at 0x114055588>"
      ]
     },
     "metadata": {},
     "output_type": "display_data"
    }
   ],
   "source": [
    "# print residuals graph to see if there's any correlation in the error\n",
    "# create new figure\n",
    "plt.figure()\n",
    "plt.scatter(X, diff, color='b', label='Data')\n",
    "plt.title('Residuals')\n",
    "plt.ylabel('Y')\n",
    "plt.xlabel('X')\n",
    "plt.legend()\n",
    "plt.show()\n"
   ]
  },
  {
   "cell_type": "code",
   "execution_count": 84,
   "metadata": {
    "collapsed": false
   },
   "outputs": [
    {
     "name": "stdout",
     "output_type": "stream",
     "text": [
      "1.96234146113\n4.16165413534 15.5087719298 5.39172491669 0.987437198062 3.35510039879 0.504981305693\n1.08308390445\n7.19601933532\n"
     ]
    }
   ],
   "source": [
    "import triedtools\n",
    "# error using student's \n",
    "print(stats.t.ppf(1-0.025, 999))\n",
    "\n",
    "b0, b1, s, R2, sigb0, sigb1 = triedtools.linreg(X, Y)\n",
    "print(b0, b1, s, R2, sigb0, sigb1)\n",
    "\n",
    "# interval for b1: +/- (t value from table)*(stddev of b1). do the same for b0\n",
    "# use t value for 14 data points at 0.95 confidence = 2.1448\n",
    "b1_interval = 2.1448 * sigb1\n",
    "b0_interval = 2.1448 * sigb0\n",
    "# this is the error in the model\n",
    "print(b1_interval)\n",
    "print(b0_interval)\n"
   ]
  },
  {
   "cell_type": "code",
   "execution_count": 94,
   "metadata": {},
   "outputs": [
    {
     "name": "stdout",
     "output_type": "stream",
     "text": [
      "112.723057644\ny mean = 112.723057644\ny max = 118.326822637\ny min = 107.119292651\n"
     ]
    }
   ],
   "source": [
    "# we must predict y when x=7\n",
    "# this means using y = b1*x + b0\n",
    "y_ave = (b1 * 7) + b0\n",
    "print(y_ave)\n",
    "\n",
    "# variance of y_ave\n",
    "s_var = np.square(s)\n",
    "numerator = np.square(7 - np.mean(X))\n",
    "denominator = np.sum(np.power(X - np.mean(X), 2))\n",
    "# diff = X - np.mean(X)\n",
    "# print(diff)\n",
    "# sq = np.square(diff)\n",
    "# denominator = np.sum(sq)\n",
    "brackets = 1 + (1/np.size(X)) + (numerator / denominator)\n",
    "y_ave_var = np.sqrt(s_var * brackets)\n",
    "print('y mean = ' + str(y_ave))\n",
    "print('y max = ' + str(y_ave + y_ave_var))\n",
    "print('y min = ' + str(y_ave - y_ave_var))"
   ]
  },
  {
   "cell_type": "code",
   "execution_count": null,
   "metadata": {},
   "outputs": [],
   "source": []
  }
 ],
 "metadata": {
  "kernelspec": {
   "display_name": "Python 3",
   "language": "python",
   "name": "python3"
  },
  "language_info": {
   "codemirror_mode": {
    "name": "ipython",
    "version": 3
   },
   "file_extension": ".py",
   "mimetype": "text/x-python",
   "name": "python",
   "nbconvert_exporter": "python",
   "pygments_lexer": "ipython3",
   "version": "3.6.2"
  }
 },
 "nbformat": 4,
 "nbformat_minor": 2
}
